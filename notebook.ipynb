{
 "cells": [
  {
   "cell_type": "markdown",
   "metadata": {},
   "source": [
    "# Quantum Noise-Based Map Generation\n",
    "\n",
    "### By: Michael Wornow and Vishal Jain _(ES 170 Final Project)_"
   ]
  },
  {
   "cell_type": "markdown",
   "metadata": {},
   "source": [
    "![title](Images/terrain.png)"
   ]
  },
  {
   "cell_type": "markdown",
   "metadata": {},
   "source": [
    "## 1. Motivation (Michael)"
   ]
  },
  {
   "cell_type": "markdown",
   "metadata": {},
   "source": [
    "Many video games rely on procedural map generation algorithms in order to create exciting and novel worlds for the player to explore. The advantages of such algorithms are several-fold: \n",
    "\n",
    "1. **More addictive** - They increase the re-play value of a game by ensuring that every restart results in a slightly different map.\n",
    "5. **More natural** - Procedural map algorithms strike the perfect balance between purely random maps and highly artificial/man-made-looking maps, resulting in a natural-looking and interesting terrain.\n",
    "2. **Save time** - They are entirely programmatic, allowing developers to spend time improving other aspects of the game instead of laboring over the design of each pixel of a terrain.\n",
    "3. **Quicker changes** - They allow for fine-tuning of map characteristics (i.e. elevation, moisture, ocean level, etc.) that take immediate effect across the entire world, without having to modify every single pixel that would be affected by the change. \n",
    "4. **Save memory** - Because these algorithms are deterministic given a specific seed, they can save memory by only generating map features as a player explores the relevant sections of a world and thereby avoid having to save the entire world in memory.\n",
    "\n",
    "Almost every video game today that relies on generating semi-random maps or texturing natural terrain uses some form of procedural map generation to achieve these goals. The most popular example of such a game is Microsoft's Minecraft, which uses several layers of procedural algorithms in order to generate vast, unpredictable worlds that still have enough structure and consistency to make them entertaining to play. [https://www.engadget.com/2015/03/04/how-minecraft-worlds-are-made/]\n",
    "\n",
    "![title](Images/minecraft.jpg)\n",
    "\n",
    "The process of generating a map is generally as follows: start by generating many layers of some sort of noise at different frequencies, then layer them together with different weights, and finally map the resulting matrix to \"elevations\" or \"moisture\" or \"biomes\" or simply pixel colors on your map. Thus, the key behind procedural map generating algorithms are the noising functions that they use.\n",
    "\n",
    "![title](Images/perlin_progression.png)\n",
    "\n",
    "The most famous such noise generation algorithm is called \"Perlin noise,\" and was created in 1983 by Ken Perlin in order to make computer graphics of natural phenomenon appear less \"machine-like.\" [Perlin, Ken (July 1985). \"An Image Synthesizer\". SIGGRAPH Comput. Graph. 19 (0097–8930): 287–296. doi:10.1145/325165.325247. Retrieved 9 February 2016.] The algorithm is explained in detail later in this project, as well as modifications that have been subsequently proposed to improve its noising properties and computational tractability.\n",
    "\n",
    "While there are currently many other \"classical\" noise generation algorithms being applied to computer graphics and simulation (including Simplex noise, Worley noise, simulation noise, value noise, etc.), we hadn't encountered any applied usage of \"quantum\" noising towards computer graphics or procedural map generation. Given the fact that noise is a central part of quantum computing in the real world, and quantum phenomenon oftentimes defy human expectations of reality even in the absence of such measurement noise, it made sense that a procedural map generating algorithm based on quantum noise could offer a novel approach towards generating interesting, natural-looking, and unpredictable maps.\n",
    "\n",
    "Thus, the goal of this project was to take advantage of quantum phenomenon like entanglement and superposition, as well as the actual measurement noise associated with making measurements on real-world quantum computers, in order to procedurally generate interesting maps.\n",
    "\n",
    "The project is split into five main segments:\n",
    "\n",
    "1. **Motivation**: Project goal and motivation\n",
    "1. **Perlin Noise**: An explanation and implementation of the classical Perlin noise algorithm, an Exponential version of Perlin noise, and a first attempt at creating a version runnable on a quantum computer\n",
    "1. **Map Generation**: Code to turn a matrix of noise into a procedurally generated map\n",
    "1. **Quantum Circuits**: Code containing QiSkit quantum circuits for generating noise\n",
    "1. **Evaluation**: Quantifying the noise generated by the different QiSkit circuits tested\n",
    "1. **Conclusion**: Short conclusion summarizing our results, lessons learned, and future directions."
   ]
  },
  {
   "cell_type": "code",
   "execution_count": 1,
   "metadata": {},
   "outputs": [],
   "source": [
    "# Requirements:\n",
    "# numpy, matplotlib, qiskit, pillow, scipy, scikit-image, noise, qutip"
   ]
  },
  {
   "cell_type": "code",
   "execution_count": 2,
   "metadata": {},
   "outputs": [],
   "source": [
    "# Imports\n",
    "import numpy as np\n",
    "import matplotlib as mpl\n",
    "mpl.use('TkAgg')\n",
    "import matplotlib.pyplot as plt\n",
    "from qiskit import *\n",
    "from time import time\n",
    "from PIL import Image\n",
    "from scipy.signal import convolve2d\n",
    "from skimage.restoration import estimate_sigma\n",
    "from scipy.misc import toimage\n",
    "import noise as python_noise\n",
    "from qutip import *\n",
    "\n",
    "# Ignore scipy toimage deprecation warning\n",
    "import warnings\n",
    "warnings.filterwarnings(\"ignore\")"
   ]
  },
  {
   "cell_type": "code",
   "execution_count": 3,
   "metadata": {},
   "outputs": [],
   "source": [
    "def display_image(arr):\n",
    "    # Visualize noise as 2D grayscale plot\n",
    "    toimage(arr).show()"
   ]
  },
  {
   "cell_type": "markdown",
   "metadata": {},
   "source": [
    "## 2. Perlin Noise (Vishal)"
   ]
  },
  {
   "cell_type": "markdown",
   "metadata": {},
   "source": [
    "A good random number generator produces numbers that have no relationship and show no discernible pattern. Some randomness is good if the randomness is organic. However, randomness as a guiding principle is not natural. The Perlin Noise algorithm is developed to create more natural noise.\n",
    "\n",
    "Perlin noise then produces pseudo-random noise - naturally ordered smooth sequence of numbers. The steps to the algorithms are as follows:\n",
    "\n",
    "1. In an n-dimensional grid, each point has a random n-dimensional unit-length gradient vector. In one dimension, the gradients are just random scalars between -1 and 1.\n",
    "\n",
    "2. Given an n-dimensional gradient value at each grid node, the next step in the algorithm is to determine into which grid cell the given point falls. First, we determine the distance vector from the corner node and the point. Then, dot product between gradient vector at the node and the distance vector. For a point in a two-dimensional grid, this will require the computation of 4 distance vectors and dot products, while in three dimensions 8 distance vectors and 8 dot products are needed. This leads to the $O(2^n)$ complexity scaling.\n",
    "\n",
    "![title](Images/perlin_noise.png)\n",
    "\n",
    "3. Use some sort of function to smooth out with interpolation. Gives Perlin algorithms its spatial appeal.\n",
    "\n",
    "We used Perlin Noise algorithm as a basis of comparison with our quantum noise generation techniques. We implemented a normal Perlin Noise algorithm, one in Qiskit, and an exponential Perlin Algorithm (variant) which has more appealing gradients. Because the Perlin Algorithm is exponential, it would be a reasonable next step to implement a quantum version of the algorithm."
   ]
  },
  {
   "cell_type": "code",
   "execution_count": 4,
   "metadata": {},
   "outputs": [],
   "source": [
    "def generate_gradient(seed=None):\n",
    "    global gradient\n",
    "    seed and np.random.seed(seed)\n",
    "    gradient = np.random.rand(512, 512, 2) * 2 - 1\n",
    "\n",
    "def perlin_noise(size_x, size_y, frequency):\n",
    "    global gradient\n",
    "    # linear space by frequency\n",
    "    x = np.tile(\n",
    "        np.linspace(0, frequency, size_x, endpoint=False), \n",
    "        size_y\n",
    "    )\n",
    "    y = np.repeat(\n",
    "        np.linspace(0, frequency, size_y, endpoint=False), \n",
    "        size_x\n",
    "    )\n",
    "    # gradient coordinates\n",
    "    x0 = x.astype(int)\n",
    "    y0 = y.astype(int)\n",
    "    # local coordinate\n",
    "    x -= x0\n",
    "    y -= y0\n",
    "    # gradient projections\n",
    "    g00 = gradient[x0, y0]\n",
    "    g10 = gradient[x0 + 1, y0]\n",
    "    g01 = gradient[x0, y0 + 1]\n",
    "    g11 = gradient[x0 + 1, y0 + 1]\n",
    "    # fade\n",
    "    t = (3 - 2 * x) * x * x\n",
    "    xp = Qobj(t)\n",
    "    test = xp*xp.trans()\n",
    "    # linear interpolation\n",
    "    r = g00[:, 0] * x + g00[:, 1] * y\n",
    "    s = g10[:, 0] * (x - 1) + g10[:, 1] * y\n",
    "    g0 = r + t * (s - r)\n",
    "    # linear interpolation\n",
    "    r = g01[:, 0] * x + g01[:, 1] * (y - 1)\n",
    "    s = g11[:, 0] * (x - 1) + g11[:, 1] * (y - 1)\n",
    "    g1 = r + t * (s - r)\n",
    "    # fade\n",
    "    t = (3 - 2 * y) * y * y\n",
    "    # (bi)linear interpolation\n",
    "    g = g0 + t * (g1 - g0)\n",
    "    # reshape\n",
    "    return g.reshape(size_y, size_x)\n",
    "\n",
    "def banded_perlin_noise(size_x, size_y, frequencies, amplitudes):\n",
    "    image = np.zeros((size_y, size_x))\n",
    "    for f, a in zip(frequencies, amplitudes):\n",
    "        image += perlin_noise(size_x, size_y, f) * a\n",
    "    image -= image.min()\n",
    "    image /= image.max()\n",
    "    return image\n",
    "  \n",
    "def exponential_perlin_noise(size_x, size_y, frequency):\n",
    "    global gradient\n",
    "    # linear space by frequency\n",
    "    x = np.tile(\n",
    "        np.linspace(0, frequency, size_x, endpoint=False), \n",
    "        size_y\n",
    "    )\n",
    "    y = np.repeat(\n",
    "        np.linspace(0, frequency, size_y, endpoint=False), \n",
    "        size_x\n",
    "    )\n",
    "    # gradient coordinates\n",
    "    x0 = x.astype(int)\n",
    "    y0 = y.astype(int)\n",
    "    # local coordinate\n",
    "    x -= x0\n",
    "    y -= y0\n",
    "    # gradient projections\n",
    "    g00 = gradient[x0, y0]\n",
    "    g10 = gradient[x0 + 1, y0]\n",
    "    g01 = gradient[x0, y0 + 1]\n",
    "    g11 = gradient[x0 + 1, y0 + 1]\n",
    "    # fade\n",
    "    t = (3 - 2 * x) * x * x\n",
    "    xp = Qobj(t)\n",
    "    test = xp*xp.trans()\n",
    "    # linear interpolation\n",
    "    test = np.absolute(np.random.exponential(scale=2.0, size=(size_x*size_y,)))\n",
    "    np.clip(test, 0, 1, out=test)\n",
    "    r = test*g00[:, 0] * x + test*g00[:, 1] * y\n",
    "    s = test*g10[:, 0] * (x - 1) + test*g10[:, 1] * y\n",
    "    g0 = r + t * (s - r)\n",
    "    # linear interpolation\n",
    "    r = test*g01[:, 0] * x + test*g01[:, 1] * (y - 1)\n",
    "    s = test*g11[:, 0] * (x - 1) + test*g11[:, 1] * (y - 1)\n",
    "    g1 = r + t * (s - r)\n",
    "    # fade\n",
    "    t = (3 - 2 * y) * y * y\n",
    "    # (bi)linear interpolation\n",
    "    g = g0 + t * (g1 - g0)\n",
    "    # reshape\n",
    "    return g.reshape(size_y, size_x)\n",
    "\n",
    "def quantum_perlin_noise(size_x, size_y, frequency):\n",
    "    global gradient\n",
    "    # linear space by frequency\n",
    "    x = np.tile(\n",
    "        np.linspace(0, frequency, size_x, endpoint=False), \n",
    "        size_y\n",
    "    )\n",
    "    y = np.repeat(\n",
    "        np.linspace(0, frequency, size_y, endpoint=False), \n",
    "        size_x\n",
    "    )\n",
    "    # gradient coordinates\n",
    "    x0 = x.astype(int)\n",
    "    y0 = y.astype(int)\n",
    "    # local coordinate\n",
    "    x -= x0\n",
    "    y -= y0\n",
    "    # gradient projections\n",
    "    g00 = gradient[x0, y0]\n",
    "    g10 = gradient[x0 + 1, y0]\n",
    "    g01 = gradient[x0, y0 + 1]\n",
    "    g11 = gradient[x0 + 1, y0 + 1]\n",
    "    # fade quantum\n",
    "    x_alt = Qobj(x)\n",
    "    y_alt = Qobj(y)\n",
    "    t_ans = (Qobj(np.repeat(3,25)) - 2*x_alt).trans()*x_alt*x_alt.trans()\n",
    "    #linear interpolation quantum: \n",
    "    r_alt = Qobj(g00[:,0]).trans()*x_alt + Qobj(g00[:, 1]).trans()*y_alt\n",
    "    s_alt = Qobj(g10[:,0]).trans()*(x_alt - 1) + Qobj(g10[:, 1]).trans()*y_alt\n",
    "    g0_alt = r_alt + t_ans*(s_alt - r_alt)\n",
    "    # linear interpolation quantum: \n",
    "    r_alt = Qobj(g01[:,0]).trans()*x_alt + Qobj(g01[:, 1]).trans()*(y_alt - 1)\n",
    "    s_alt = Qobj(g11[:,0]).trans()*(x_alt - 1) + Qobj(g11[:, 1]).trans()*(y_alt-1)\n",
    "    g1_alt = r_alt + t_ans*(s_alt - r_alt)\n",
    "    # fade quantum\n",
    "    t_alt = (3 - 2*y_alt).trans()*y_alt*y_alt.trans()\n",
    "    g_alt = (g0_alt + t_alt*(g1_alt - g0_alt).trans()).full()\n",
    "    # reshape\n",
    "    return g_alt.reshape(size_y, size_x)"
   ]
  },
  {
   "cell_type": "code",
   "execution_count": 5,
   "metadata": {},
   "outputs": [],
   "source": [
    "generate_gradient()\n",
    "\n",
    "image = perlin_noise(124, 124, 2)\n",
    "display_image(image)"
   ]
  },
  {
   "cell_type": "markdown",
   "metadata": {},
   "source": [
    "## 3. Map Generation (Michael)"
   ]
  },
  {
   "cell_type": "markdown",
   "metadata": {},
   "source": [
    "The code in this section procedurally generates a map based on a matrix of noise.\n",
    "\n",
    "First, the various possible biomes that our map can contain (i.e. \"Ocean\", \"Beach\", \"Grassland\", etc.) are defined and assigned a unique RGB color code."
   ]
  },
  {
   "cell_type": "code",
   "execution_count": 6,
   "metadata": {},
   "outputs": [],
   "source": [
    "# Scale for classical noise maps\n",
    "CLASSICAL_SCALE = (1024, 1024)\n",
    "\n",
    "# Biome segmentation and coloring\n",
    "OCEAN = [68, 68, 122]\n",
    "COAST = [51, 51, 90]\n",
    "LAKESHORE = [34, 85, 136]\n",
    "LAKE = [51, 102, 153]\n",
    "RIVER = [34, 85, 136]\n",
    "MARSH = [47, 102, 102]\n",
    "ICE = [153, 255, 255]\n",
    "BEACH = [160, 144, 119]\n",
    "BRIDGE = [104, 104, 96]\n",
    "LAVA = [204, 51, 51]\n",
    "SNOW = [221, 221, 228]\n",
    "TUNDRA = [187, 187, 170]\n",
    "BARE = [136, 136, 136]\n",
    "SCORCHED = [85, 85, 85]\n",
    "TAIGA = [153, 170, 119]\n",
    "SHRUBLAND = [136, 153, 119]\n",
    "TEMPERATE_DESERT = [201, 210, 155]\n",
    "TEMPERATE_RAIN_FOREST = [68, 136, 85]\n",
    "TEMPERATE_DECIDUOUS_FOREST = [103, 148, 89]\n",
    "GRASSLAND = [136, 170, 85]\n",
    "SUBTROPICAL_DESERT = [210, 185, 139]\n",
    "TROPICAL_RAIN_FOREST = [51, 119, 85]\n",
    "TROPICAL_SEASONAL_FOREST = [85, 153, 68]"
   ]
  },
  {
   "cell_type": "markdown",
   "metadata": {},
   "source": [
    "Now that the biome colors are defined I needed to write a function that mapped noise to each biome.\n",
    "\n",
    "The two functions below each take two parameter, $e$ (\"elevation\") and $m$ (\"moisture\"), and return a specific biome. Each parameter has a range of $[0,1]$ (this value is determined by the noise function) and corresponds to a specific $(x,y)$ coordinate in our world.\n",
    "\n",
    "The **biome_basic** function ignores the moisture $m$ parameter, and thus defines biomes purely based on their elevation $e$. The **biome_advanced** function, on the other hand, takes into account both elevation $e$ and moisture $m$ noise in order to create more random/fine-grained biomes.\n",
    "\n",
    "For example, if the noise value at coordinate $(10,10)$ was $0.09$, and this value of $0.09$ was passed to **biome_basic(0.09, None)**, then the coordinate $(10,10)$ in our world would be colored **OCEAN**. This makes intuitive sense because the lower elevations of our map should be below sea level. However, if the noise value at the point $(10,10)$ was $0.9$ then it would be colored **SNOW**, which also makes sense since higher elevations have snow."
   ]
  },
  {
   "cell_type": "code",
   "execution_count": 7,
   "metadata": {},
   "outputs": [],
   "source": [
    "def biome_basic(e, m):\n",
    "    if (e < 0.1):\n",
    "        return OCEAN\n",
    "    elif (e < 0.12):\n",
    "        return BEACH\n",
    "    elif (e < 0.25):\n",
    "        return TEMPERATE_DECIDUOUS_FOREST\n",
    "    elif (e < 0.4):\n",
    "        return TEMPERATE_RAIN_FOREST\n",
    "    elif (e < 0.65):\n",
    "        return TAIGA\n",
    "    elif (e < 0.85):\n",
    "        return TUNDRA\n",
    "    else:\n",
    "        return SNOW\n",
    "\n",
    "def biome_advanced(e, m):\n",
    "    ocean_baseline = 0.1\n",
    "    if (e < ocean_baseline): \n",
    "        return OCEAN\n",
    "    if (e < ocean_baseline + 0.02): \n",
    "        return BEACH\n",
    "    if (e > 0.8):\n",
    "        if (m < 0.1): \n",
    "            return SCORCHED\n",
    "        if (m < 0.2): \n",
    "            return BARE\n",
    "        if (m < 0.5): \n",
    "            return TUNDRA\n",
    "        return SNOW\n",
    "    if (e > ocean_baseline + 0.5):\n",
    "        if (m < 0.33): \n",
    "            return TEMPERATE_DESERT\n",
    "        if (m < 0.66): \n",
    "            return SHRUBLAND\n",
    "        return TAIGA\n",
    "    if (e > ocean_baseline + 0.2):\n",
    "        if (m < 0.16): \n",
    "            return TEMPERATE_DESERT\n",
    "        if (m < 0.50): \n",
    "            return GRASSLAND\n",
    "        if (m < 0.83): \n",
    "            return TEMPERATE_DECIDUOUS_FOREST\n",
    "        return TEMPERATE_RAIN_FOREST\n",
    "    if (m < 0.16): \n",
    "        return SUBTROPICAL_DESERT\n",
    "    if (m < 0.33): \n",
    "        return GRASSLAND\n",
    "    if (m < 0.66): \n",
    "        return TROPICAL_SEASONAL_FOREST\n",
    "    return TROPICAL_RAIN_FOREST"
   ]
  },
  {
   "cell_type": "markdown",
   "metadata": {},
   "source": [
    "Now that the code for turning noise into an interesting map was taken care of, the next step was to actually write the functions to generate noise. In the interest of speed to enable us to more quickly implement, refine, and test our project, and since the main point of this project was to evaluate quantum-noise-based procedurally generated maps anyway, I decided to use the highly optimized **Python noise** library instead of our manually implemented Perlin noise functions to serve as the basis for our classical noise generation examples. \n",
    "\n",
    "The **gen_elevation** function generates Perlin noise for elevation levels (the $e$ parameter of **biome_basic** and **biome_advanced**), while the **gen_moisture** function generates moisture noise (the $m$ parameter of **biome_basic** and **biome_advanced**)."
   ]
  },
  {
   "cell_type": "code",
   "execution_count": 8,
   "metadata": {},
   "outputs": [],
   "source": [
    "def gen_perlin_noise(scale, freq, show_image = False):\n",
    "    # Inputs: \n",
    "    #       scale: Integer - Larger -> Lower frequency -> More bumps and hills\n",
    "    #       show_image: Boolean - True then show matplotlib image\n",
    "    arr = np.zeros(scale)\n",
    "    for x in range(scale[0]):\n",
    "        for y in range(scale[1]):\n",
    "            arr[x][y] = (python_noise.pnoise2(x/freq, \n",
    "                                        y/freq, \n",
    "                                        octaves=1, \n",
    "                                        persistence=0, # Irrelevant\n",
    "                                        lacunarity=1, # Irrelevant\n",
    "                                        repeatx=scale[0], \n",
    "                                        repeaty=scale[1], \n",
    "                                        base=0) + 1)/2\n",
    "    if show_image:\n",
    "        display_image(arr)\n",
    "    return arr\n",
    "\n",
    "def get_layered_noise(scale, levels, weights):\n",
    "    # Inputs:\n",
    "    #       levels: Array of Integers -> scale for each octavte\n",
    "    #       weights: Array of Integers -> How much each octave is weighted\n",
    "    s = 0\n",
    "    for idx, l in enumerate(levels):\n",
    "        s += weights[idx] * gen_perlin_noise(scale, l)\n",
    "    return s\n",
    "\n",
    "def gen_elevation(scale, valley_power = 3):\n",
    "    # Inputs:\n",
    "    #             valley_power: Integer - Larger -> More valleys (default 3)\n",
    "    # Outputs:\n",
    "    #            1024x1024 array\n",
    "    # Elevation\n",
    "    elevation = get_layered_noise(scale, [50,150,300], [1, .5, .1])\n",
    "    # Redistribution for valleys\n",
    "    elevation = elevation ** valley_power\n",
    "    return elevation\n",
    "\n",
    "def gen_moisture(scale):\n",
    "    # Inputs:\n",
    "    #             None\n",
    "    # Outputs:\n",
    "    #            1024x1024 array\n",
    "    # Moisture\n",
    "    moisture = get_layered_noise(scale, [50,200,400], [1, .5, .1])\n",
    "    return moisture"
   ]
  },
  {
   "cell_type": "markdown",
   "metadata": {},
   "source": [
    "An example of the **gen_elevation** function is defined below, with different parameter values for **valley_power** tested to show how changes in elevation and the creation of valleys (the dark pixels) can be controlled by exponentiation:"
   ]
  },
  {
   "cell_type": "code",
   "execution_count": 9,
   "metadata": {},
   "outputs": [],
   "source": [
    "display_image(gen_elevation((1024,1024), valley_power = 3))\n",
    "display_image(gen_elevation((1024,1024), valley_power = 2))\n",
    "display_image(gen_elevation((1024,1024), valley_power = 1))"
   ]
  },
  {
   "cell_type": "markdown",
   "metadata": {},
   "source": [
    "#### Elevation Noise\n",
    "\n",
    "##### Valley = 3\n",
    "![Elevation, Valley 3](Images/elevation_3.png)\n",
    "\n",
    "##### Valley = 2\n",
    "![Elevation, Valley 2](Images/elevation_2.png)\n",
    "\n",
    "##### Valley = 1\n",
    "![Elevation, Valley 1](Images/elevation_1.png)"
   ]
  },
  {
   "cell_type": "markdown",
   "metadata": {},
   "source": [
    "Finally, having written all of the helper functions necessary in the above code segments, I implemented the code to actually generate images of maps. The function **make_map** takes as input either classically-generated or quantum-generated noise, then generates a map of either an island surrounded by water or a fully land-based terrain."
   ]
  },
  {
   "cell_type": "code",
   "execution_count": 10,
   "metadata": {},
   "outputs": [],
   "source": [
    "def gen_circle_grad(scale):\n",
    "    # Inputs:\n",
    "    #             None\n",
    "    # Outputs:\n",
    "    #            1024x1024 array of a circle gradient\n",
    "    # Circle gradient - used for island generation\n",
    "    center_x = scale[0] //2\n",
    "    center_y = scale[1] // 2\n",
    "    circle_grad = [ [ np.sqrt((x - center_x)**2 + (y - center_y)**2) for y in range(scale[1]) ] for x in range(scale[0]) ]\n",
    "    ## Reshape and standardize to [-1,1]\n",
    "    circle_grad /= np.max(circle_grad)\n",
    "    circle_grad = -(circle_grad - 0.5)*2.0\n",
    "    ## Overexaggerate center\n",
    "    circle_grad = [ [ circle_grad[x][y] * (20 if circle_grad[x][y] > 0 else 1) for y in range(scale[1]) ] for x in range(scale[0]) ]\n",
    "    circle_grad /= np.max(circle_grad)\n",
    "    return circle_grad\n",
    "\n",
    "def make_map(scale, elevation = None, moisture = None, island = True, advanced = True, display = True):\n",
    "    # Inputs:\n",
    "    #            scale: (Integer, Integer) - width (x) and height (y) of map\n",
    "    #            elevation: 1024x1024 matrix - use instead of generating noise classically\n",
    "    #            moisture: 1024x1024 matrix - use instead of generating noise classically\n",
    "    #             island: Boolean - If true, then use circle gradient to make map an island\n",
    "    #             advanced: Boolean - If true, then use moisture noise to color pixels\n",
    "    #             display: Boolean - If true, then print out map\n",
    "    # Outputs:\n",
    "    #            1024x1024 array of colored world pixels\n",
    "    elevation = gen_elevation(scale) if elevation is None else elevation\n",
    "    biome_func = biome_basic\n",
    "    if island:\n",
    "        # Get circular gradient\n",
    "        circle_grad = gen_circle_grad(scale)\n",
    "        # Convert world noise to circle gradient\n",
    "        elevation = [ [ elevation[x][y] * circle_grad[x][y] * (20 if (elevation[x][y] * circle_grad[x][y]) > 0 else 1) for y in range(scale[1]) ] for x in range(scale[0]) ]\n",
    "    elevation /= np.max(elevation)\n",
    "    if advanced:\n",
    "        biome_func = biome_advanced\n",
    "        moisture = gen_moisture(scale) if moisture is None else moisture\n",
    "    if moisture is None:\n",
    "        moisture = np.ones(scale)\n",
    "    # Color world pixels\n",
    "    world = [ [ biome_func(elevation[x][y], moisture[x][y]) for y in range(scale[1]) ] for x in range(scale[0]) ]\n",
    "    if display:\n",
    "        display_image(world)\n",
    "    return world"
   ]
  },
  {
   "cell_type": "markdown",
   "metadata": {},
   "source": [
    "In order to create an island and ensure that it is surrounded on all sides by water, the **make_map** function uses the **gen_circle_grad** function defined above. This function generates a circular gradient radiating from the center of the map. With higher values closer towards the center, this circular gradient ensures that pixels farther away from the center are down-shifted in value. And since my **biome_basic** and **biome_advanced** functions treat the lowest pixel values as **OCEAN**, the points farther away from the center of the map will get classified as below sea level. "
   ]
  },
  {
   "cell_type": "code",
   "execution_count": 11,
   "metadata": {},
   "outputs": [],
   "source": [
    "# Circle gradient\n",
    "display_image(gen_circle_grad(CLASSICAL_SCALE))\n",
    "\n",
    "# Island gradient = Circle gradient * Elevation noise\n",
    "e = gen_elevation(CLASSICAL_SCALE)\n",
    "c = gen_circle_grad(CLASSICAL_SCALE)\n",
    "island_grad = [ [ e[x][y] * c[x][y] * (20 if (e[x][y] * c[x][y]) > 0 else 1) for y in range(CLASSICAL_SCALE[1]) ] for x in range(CLASSICAL_SCALE[0]) ]\n",
    "island_grad /= np.max(island_grad)\n",
    "display_image(island_grad)"
   ]
  },
  {
   "cell_type": "markdown",
   "metadata": {},
   "source": [
    "#### Circle Gradient Noise\n",
    "\n",
    "![Circle Gradient](Images/circle_grad.png)\n",
    "\n",
    "#### Island Elevation = Circle Gradient * Elevation\n",
    "\n",
    "![Island Gradient](Images/island_grad.png)"
   ]
  },
  {
   "cell_type": "markdown",
   "metadata": {},
   "source": [
    "The code below generates four distinct maps using classical Perlin noise. \n",
    "\n",
    "Images of the four maps will pop-up in the background when this code chunk is run, and will appear in the following order: \n",
    "\n",
    "1. _Island_ - Biomes determined by elevation and moisture\n",
    "1. _Island_ - Biomes determined by elevation only\n",
    "1. _Land mass_ - Biomes determined by elevation and moisture\n",
    "1. _Land mass_ - Biomes determined by elevation only"
   ]
  },
  {
   "cell_type": "code",
   "execution_count": 12,
   "metadata": {},
   "outputs": [],
   "source": [
    "#\n",
    "# Classical examples\n",
    "#\n",
    "a = make_map((1024, 1024), island = True, advanced = True)\n",
    "a = make_map((1024, 1024), island = True, advanced = False)\n",
    "a = make_map((1024, 1024), island = False, advanced = True)\n",
    "a = make_map((1024, 1024), island = False, advanced = False)"
   ]
  },
  {
   "cell_type": "markdown",
   "metadata": {},
   "source": [
    "#### Island\n",
    "\n",
    "##### Advanced \n",
    "![Island Advanced](Images/classic_island_advanced.png)\n",
    "\n",
    "##### Basic \n",
    "![Island Basic](Images/classic_island_basic.png)\n",
    "\n",
    "#### Land\n",
    "\n",
    "##### Advanced \n",
    "![Land Advanced](Images/classic_land_advanced_1.png)\n",
    "\n",
    "##### Basic \n",
    "![Land Basic](Images/classic_land_basic_1.png)"
   ]
  },
  {
   "cell_type": "markdown",
   "metadata": {},
   "source": [
    "## 4. Quantum Circuits (Michael/Vishal)"
   ]
  },
  {
   "cell_type": "markdown",
   "metadata": {},
   "source": [
    "Building on the theory developed above concerning the procedural generation of interesting island/non-island maps with classical noise algorithms, I next decided to map the amplitudes of the states output from several quantum circuits to the map generating code above and use that output as noise for my maps.\n",
    "\n",
    "This section relies heavily on the helper functions defined above, as well as IBM's QiSkit library for quantum circuit generation."
   ]
  },
  {
   "cell_type": "markdown",
   "metadata": {},
   "source": [
    "### A) Set-Up (Michael)"
   ]
  },
  {
   "cell_type": "markdown",
   "metadata": {},
   "source": [
    "Given that the world's largest quantum computer currently only supports 72 qubits [https://thenextweb.com/artificial-intelligence/2018/03/06/google-reclaims-quantum-computer-crown-with-72-qubit-processor/] and the high computational cost for simulating quantum systems on classical computers, I decided to use **10 qubits** in the quantum circuits below for my map generation simulations."
   ]
  },
  {
   "cell_type": "code",
   "execution_count": 13,
   "metadata": {},
   "outputs": [],
   "source": [
    "# Number of qubits\n",
    "N_QUBITS = 10\n",
    "# Number of replications\n",
    "shots = 4**N_QUBITS\n",
    "\n",
    "# Default ground state\n",
    "GROUND_STATE = [0] * (2**N_QUBITS)\n",
    "GROUND_STATE[0] = 1\n",
    "\n",
    "# Create max X and Y needed to squash 2^n points onto 2D plane (not necessarily square so ends up creating a perfect tiling)\n",
    "max_X = int(2 ** np.ceil(N_QUBITS/2))\n",
    "max_Y = int(2 ** np.floor(N_QUBITS/2))\n",
    "SCALE = (max_X, max_Y)"
   ]
  },
  {
   "cell_type": "code",
   "execution_count": 14,
   "metadata": {},
   "outputs": [],
   "source": [
    "# For each (x,y) on 2D plane...\n",
    "coordinates = {} # Map (x,y) coordinate to binary string '1000101'\n",
    "for x in range(SCALE[0]):\n",
    "    for y in range(SCALE[1]):\n",
    "        # For each qubit...\n",
    "        for i in range(N_QUBITS):\n",
    "            # Create binary string representation\n",
    "            if (i%2) == 0:\n",
    "                ## If even qubit\n",
    "                xx = np.floor(x/2**(i/2))\n",
    "                coordinates[(x,y)] = str( int( ( xx + np.floor(xx/2) )%2 ) ) + (coordinates[(x,y)] if (x,y) in coordinates else '')\n",
    "            else:\n",
    "                ## If odd qubit\n",
    "                yy = np.floor(y/2**((i-1)/2))\n",
    "                coordinates[(x,y)] = str( int( ( yy + np.floor(yy/2) )%2 ) ) + (coordinates[(x,y)] if (x,y) in coordinates else '')\n",
    "#\n",
    "# Now, \"coordinates\" is dictionary of form:\n",
    "## { (2, 1): '000000111', (3, 1): '000000110' }\n",
    "#\n",
    "\n",
    "# Set ground state (000...000) to be in center of hypercube \n",
    "center = '0' * N_QUBITS\n",
    "current_center = coordinates[ ( np.floor(SCALE[0]/2), np.floor(SCALE[1]/2)) ]\n",
    "diff = ''\n",
    "for j in range(N_QUBITS):\n",
    "    diff += '0'*(current_center[j]==center[j]) + '1'*(current_center[j]!=center[j])\n",
    "#\n",
    "# Marks with \"1\" digits where current_center and center are different, \"0\" otherwise\n",
    "## If center == '000' and current_center == '101', then diff = '101'\n",
    "## If center == '110' and current_center == '101' then diff = '011'\n",
    "# \n",
    "\n",
    "#\n",
    "# Flip all bits based on \"diff\"\n",
    "#\n",
    "for (x,y) in coordinates:\n",
    "    newstring = ''\n",
    "    for j in range(N_QUBITS):\n",
    "        newstring += coordinates[(x,y)][j]*(diff[j]=='0') + ('0'*(coordinates[(x,y)][j]=='1')+'1'*(coordinates[(x,y)][j]=='0'))*(diff[j]=='1')\n",
    "    coordinates[(x,y)] = newstring\n",
    "\n",
    "# Create inverse of 'coordinates' dictionary\n",
    "reverse_coordinates = {} # Map binary string '1010101010' to (x,y) coordinate\n",
    "for x in range(SCALE[0]):\n",
    "    for y in range(SCALE[1]):\n",
    "        reverse_coordinates[coordinates[(x,y)]] = (x,y)\n"
   ]
  },
  {
   "cell_type": "markdown",
   "metadata": {},
   "source": [
    "### B) Helper Functions (Michael)"
   ]
  },
  {
   "cell_type": "markdown",
   "metadata": {},
   "source": [
    "The function **get_probs_matrix** below takes as input a Qiskit job and retrieves the count of each of the $2^{N}$ possible states. It then divides each count by the number of total replications (\"shots\") that were done to get the MLE estimate for the true probability of each state.\n",
    "\n",
    "It then uses the **reverse_coordinates** matrix defined above to map each state (returned by Qiskit as a binary string) to an $(x,y)$ coordinate on my map. It then associates that $(x,y)$ coordinate with the probability measured for that state, and thus the \"noise value\" for that pixel $(x,y)$ is simply the probability of the quantum state mapped to that pixel."
   ]
  },
  {
   "cell_type": "code",
   "execution_count": 15,
   "metadata": {},
   "outputs": [],
   "source": [
    "#\n",
    "# Convert probabilities of each state after running a QC to a noise matrix\n",
    "#\n",
    "def get_probs_matrix(job):\n",
    "    # Convert a QC job into a 1024x1024 noise matrix\n",
    "    counts = job.result().get_counts()\n",
    "    probs_matrix = np.full(SCALE, 1/shots)\n",
    "    for binary_string, count in counts.items():\n",
    "        probs_matrix[reverse_coordinates[binary_string]] = count/shots\n",
    "    return probs_matrix"
   ]
  },
  {
   "cell_type": "markdown",
   "metadata": {},
   "source": [
    "The helper functions below offer several useful pieces of functionality for setting up and evaluating quantum circuits. \n",
    "\n",
    "The **get_peaks** function returns a list of the $(x,y)$ coordinates with the highest values in a noise array (i.e. the states output from a quantum circuit with the highest associated probabilities). Visually, these $(x,y)$ coordinates correspond to the whitest pixels in the **display_image** rendering of that noise matrix.\n",
    "\n",
    "The **create_superposition** function accepts one parameter, $density$, and returns a vector representing a superposition at that desired density. The lower the density, the fewer states will be included in that superposition. This function is useful for initializing our quantum circuits, for spreading out the probabilitiy density among many states through superposition allows us to better simulate the largely spread out distribution generated by the classical Perlin noise algorithm."
   ]
  },
  {
   "cell_type": "code",
   "execution_count": 27,
   "metadata": {},
   "outputs": [],
   "source": [
    "#\n",
    "# Quantum circuit set-up code\n",
    "#\n",
    "\n",
    "#\n",
    "# Get peaks of noise\n",
    "def get_peaks(noise, side_peaks_threshold = None, side_peaks_num = None, display = True):\n",
    "    # Inputs:\n",
    "    #       noise: 1024x1024 matrix - From get_probs_matrix()\n",
    "    #       side_peaks_threshold: Float - Any values in \"noise\" greater than this threshold will be counted as a \"side_peak\"\n",
    "    #       side_peaks_num: Integer - Number of side_peaks to count (will return top \"side_peaks_num\" values in \"noise\")\n",
    "    #       display: Boolean - If true, print out peak and side_peaks\n",
    "    peak = np.unravel_index(a.argmax(), a.shape)\n",
    "    if side_peaks_threshold is not None:\n",
    "        side_peaks = np.argwhere( a > side_peaks_threshold)\n",
    "    else:\n",
    "        side_peaks = np.unravel_index(np.argsort(a.ravel())[-side_peaks_num:], a.shape)\n",
    "        side_peaks = np.array(list(zip(side_peaks[0], side_peaks[1])))\n",
    "    result = { 'peak' : coordinates[peak], 'side_peaks' : [ coordinates[(sp[0], sp[1])] for sp in list(side_peaks)] }\n",
    "    if display:\n",
    "        print(result['peak'])\n",
    "        print(result['side_peaks'])\n",
    "    return result\n",
    "\n",
    "#\n",
    "# Create superposition at desired density\n",
    "def create_superposition(density):\n",
    "    # Input:    density: Float between (0,1) - Larger -> More states in superposition (more spread probability)\n",
    "    # Output:   state: Array of length 512 with Z elements that are of value 1/sqrt(Z)\n",
    "    ##          \"state\" represents a uniform superposition in Z diff states\n",
    "    total_states = 2**N_QUBITS # Assuming N_QUBITS = 9...\n",
    "    n_states = int(density * total_states) # N = 51, number of states in superposition\n",
    "    state = [0]* total_states # Array of 0's, len(state) = 512\n",
    "    # Randomly pick N = 51 points (set by \"n_states\")\n",
    "    super_states = np.random.choice(range(total_states), size = n_states, replace = False) # States in superposition\n",
    "    for s in super_states:\n",
    "        state[s] = 1\n",
    "    normalization = np.sqrt(sum(np.absolute(state)**2)) # Sum of squared amplitudes\n",
    "    state = [ amp / normalization for amp in state ]\n",
    "    return state"
   ]
  },
  {
   "cell_type": "markdown",
   "metadata": {},
   "source": [
    "The two functions below help make generation of a Qiskit quantum circuit easier. \n",
    "\n",
    "The **get_quantum_circuit** function simply returns registers, a circuit, and a QASM simulator backend.\n",
    "\n",
    "The **sim_circuit** function serves as a decorator that automatically adds support for logarithmic smoothing, normalization, non-ground-state initialization, and visualization of the output of the quantum circuit it wraps."
   ]
  },
  {
   "cell_type": "code",
   "execution_count": 17,
   "metadata": {},
   "outputs": [],
   "source": [
    "#\n",
    "# Helper function\n",
    "def get_quantum_circuit():\n",
    "    q = QuantumRegister(N_QUBITS)\n",
    "    c = ClassicalRegister(N_QUBITS)\n",
    "    qc = QuantumCircuit(q, c)\n",
    "    backend = BasicAer.get_backend('qasm_simulator')\n",
    "    return q, c, qc, backend\n",
    "\n",
    "#\n",
    "# Decorate for all circuits that don't rely on real-world device noise\n",
    "def sim_circuit(func):\n",
    "    def wrapper(*args, **kwargs):\n",
    "        #\n",
    "        # (1) Get backend\n",
    "        q, c, qc, backend = get_quantum_circuit()\n",
    "        #\n",
    "        # (2) Make circuit\n",
    "        initial_state = kwargs['initial_state'] if 'initial_state' in kwargs else GROUND_STATE\n",
    "        func(q, c, qc, initial_state, **kwargs)\n",
    "        #\n",
    "        # (3) Execute\n",
    "        job = execute(qc, backend, shots = shots)\n",
    "        #\n",
    "        # (4) Display\n",
    "        log_smooth = kwargs['log_smooth'] if 'log_smooth' in kwargs else False\n",
    "        normalize = kwargs['normalize'] if 'normalize' in kwargs else False\n",
    "        display = kwargs['display'] if 'display' in kwargs else True # Default to True\n",
    "        probs_matrix = get_probs_matrix(job)\n",
    "        if log_smooth:\n",
    "            ## Take log\n",
    "            probs_matrix = -np.log(probs_matrix)\n",
    "        if normalize:\n",
    "            ## Normalize to be between [0,1]\n",
    "            probs_matrix = (probs_matrix - np.min(probs_matrix))/(np.max(probs_matrix) - np.min(probs_matrix))\n",
    "        if display:\n",
    "            ## Display grainy image of noise\n",
    "            display_image(probs_matrix)\n",
    "        return probs_matrix\n",
    "    return wrapper\n",
    "def parse_args(args):\n",
    "    # Parse args from @sim_circuit decorator\n",
    "    return args[0], args[1], args[2], args[3]"
   ]
  },
  {
   "cell_type": "markdown",
   "metadata": {},
   "source": [
    "### C) Circuits (Michael)"
   ]
  },
  {
   "cell_type": "markdown",
   "metadata": {},
   "source": [
    "The code below actually implements quantum circuits for a variety of set-ups. The comments for each function described in more detail what circuit is being tested."
   ]
  },
  {
   "cell_type": "code",
   "execution_count": 18,
   "metadata": {},
   "outputs": [],
   "source": [
    "#\n",
    "# Construct actual Quantum circuits\n",
    "#\n",
    "\n",
    "#\n",
    "# Simple circuit (just measure ground state)\n",
    "@sim_circuit\n",
    "def simple_circuit(*args, **kwargs):\n",
    "    q, c, qc, initial_state = parse_args(args)\n",
    "    # Initialize circuit\n",
    "    qc.initialize(initial_state, q)\n",
    "    # Measure \n",
    "    qc.measure(q, c)\n",
    "@sim_circuit\n",
    "\n",
    "#\n",
    "# GHZ Gate-based circuits\n",
    "def simple_ghz_circuit(*args, **kwargs):\n",
    "    # Output: Use GHZ state (generalization of Bell state) to show 2 distinct peaks\n",
    "    q, c, qc, initial_state = parse_args(args)\n",
    "    # Initialize circuit\n",
    "    qc.initialize(initial_state, q)\n",
    "    # GHZ gate\n",
    "    qc.h(q[0])\n",
    "    for i in range(N_QUBITS - 1):\n",
    "        qc.cx(q[i], q[i+1])\n",
    "    qc.measure(q, c)\n",
    "@sim_circuit\n",
    "def rotation_ghz_circuit(*args, **kwargs):\n",
    "    # Spread out probability from 2 GHZ peaks to surrounding pixels\n",
    "    # Inputs: rotation: Float - Closer to pi/2, more literal checkerboard\n",
    "    ##      pi/2 => checkerboard, top left is white\n",
    "    ##      -pi/2 => checkerboard, top left is black\n",
    "    # Output: Variation on checkerboard pattern\n",
    "    q, c, qc, initial_state = parse_args(args)\n",
    "    rotation = kwargs['rotation']\n",
    "    # Initialize circuit\n",
    "    qc.initialize(initial_state, q)\n",
    "    # GHZ gate\n",
    "    qc.h(q[0])\n",
    "    for i in range(N_QUBITS - 1):\n",
    "        qc.cx(q[i], q[i+1])\n",
    "    # RY rotation\n",
    "    qc.ry(rotation, q)\n",
    "    # Measure\n",
    "    qc.measure(q, c)\n",
    "\n",
    "#\n",
    "# Lab 4 Gates\n",
    "@sim_circuit\n",
    "def lab_4_gate_1(*args, **kwargs):\n",
    "    q, c, qc, initial_state = parse_args(args)\n",
    "    qc.initialize(initial_state, q)\n",
    "    for i in range(N_QUBITS):\n",
    "        qc.h(q[i])\n",
    "        qc.h(q[i])\n",
    "    qc.measure(q, c)\n",
    "@sim_circuit\n",
    "def lab_4_gate_2(*args, **kwargs):\n",
    "    q, c, qc, initial_state = parse_args(args)\n",
    "    qc.initialize(initial_state, q)\n",
    "    for i in range(N_QUBITS):\n",
    "        qc.h(q[i])\n",
    "        qc.t(q[i])\n",
    "        qc.h(q[i])\n",
    "    qc.measure(q, c)\n",
    "@sim_circuit\n",
    "def lab_4_gate_3(*args, **kwargs):\n",
    "    q, c, qc, initial_state = parse_args(args)\n",
    "    qc.initialize(initial_state, q)\n",
    "    for i in range(N_QUBITS):\n",
    "        qc.h(q[i])\n",
    "        qc.s(q[i])\n",
    "        qc.h(q[i])\n",
    "    qc.measure(q, c)\n",
    "@sim_circuit\n",
    "def lab_4_gate_4(*args, **kwargs):\n",
    "    q, c, qc, initial_state = parse_args(args)\n",
    "    qc.initialize(initial_state, q)\n",
    "    for i in range(N_QUBITS):\n",
    "        qc.h(q[i])\n",
    "        qc.s(q[i])\n",
    "        qc.t(q[i])\n",
    "        qc.h(q[i])\n",
    "    qc.measure(q, c)\n",
    "@sim_circuit\n",
    "def lab_4_gate_5(*args, **kwargs):\n",
    "    q, c, qc, initial_state = parse_args(args)\n",
    "    qc.initialize(initial_state, q)\n",
    "    for i in range(N_QUBITS):\n",
    "        qc.h(q[i])\n",
    "        qc.z(q[i])\n",
    "        qc.h(q[i])\n",
    "    qc.measure(q, c)\n",
    "\n",
    "#\n",
    "# Template circuit\n",
    "@sim_circuit\n",
    "def template_circuit(*args, **kwargs):\n",
    "    q, c, qc, initial_state = parse_args(args)\n",
    "    qc.initialize(initial_state, q)\n",
    "    ##\n",
    "    ##\n",
    "    ## EDIT HERE\n",
    "    ##\n",
    "    ##\n",
    "    qc.measure(q, c)"
   ]
  },
  {
   "cell_type": "markdown",
   "metadata": {},
   "source": [
    "### D) Even More Circuits! (Vishal)"
   ]
  },
  {
   "cell_type": "code",
   "execution_count": 19,
   "metadata": {},
   "outputs": [],
   "source": [
    "@sim_circuit\n",
    "def qft_circuit(*args, **kwargs):\n",
    "    q, c, qc, initial_state = parse_args(args)\n",
    "    qc.initialize(initial_state, q)\n",
    "    qc.h(q[0])\n",
    "    \n",
    "    # Phase gates\n",
    "    qc.cu1(np.pi/2, q[0], q[1])\n",
    "    qc.cu1(np.pi/4, q[0], q[2])\n",
    "    \n",
    "    qc.h(q[1])\n",
    "    qc.cu1(np.pi/2, q[1], q[2])\n",
    "    qc.h(q[2])\n",
    "    qc.swap(q[0], q[2])\n",
    "    \n",
    "    qc.measure(q, c)\n",
    "\n",
    "@sim_circuit\n",
    "def fredkin_circuit(*args, **kwargs):\n",
    "    q, c, qc, initial_state = parse_args(args)\n",
    "    qc.initialize(initial_state, q)\n",
    "    # Apply fredkin gate multiple times. \n",
    "    for i in range(N_QUBITS - 2):\n",
    "        qc.cswap(q[i], q[i+1], q[i+2])\n",
    "    qc.measure(q, c)\n",
    "    \n",
    "@sim_circuit\n",
    "def toffoli_circuit(*args, **kwargs):\n",
    "    q, c, qc, initial_state = parse_args(args)\n",
    "    qc.initialize(initial_state, q)\n",
    "    # Apply toffoli gate multiple times. \n",
    "    for i in range(N_QUBITS - 2):\n",
    "        qc.ccx(q[i], q[i+1], q[i+2])\n",
    "    qc.measure(q, c)"
   ]
  },
  {
   "cell_type": "markdown",
   "metadata": {},
   "source": [
    "### E) Make Maps (Michael)"
   ]
  },
  {
   "cell_type": "markdown",
   "metadata": {},
   "source": [
    "Having now defined a variety of quantum circuits, we wanted to visualize the type of noise that each generated and how it could translate to actual maps."
   ]
  },
  {
   "cell_type": "code",
   "execution_count": 20,
   "metadata": {},
   "outputs": [],
   "source": [
    "#\n",
    "# Make example maps\n",
    "#\n",
    "a = rotation_ghz_circuit(rotation = np.pi*.25, log_smooth = True)\n",
    "b = make_map(SCALE, elevation = a)\n",
    "a = rotation_ghz_circuit(rotation = np.pi*.25, log_smooth = True, normalize = True)\n",
    "b = make_map(SCALE, elevation = a)\n",
    "a = rotation_ghz_circuit(rotation = np.pi*.25, log_smooth = False, normalize = False)\n",
    "b = make_map(SCALE, elevation = a)"
   ]
  },
  {
   "cell_type": "markdown",
   "metadata": {},
   "source": [
    "#### Island - Logarithmic smoothing\n",
    "##### Map\n",
    "![title](Images/example1_logsmooth_island.png)\n",
    "##### Noise\n",
    "![title](Images/example1_logsmooth_island_grad.png)\n",
    "#### Island - Logarithmic smoothing + Normalization\n",
    "##### Map\n",
    "![title](Images/example1_logsmooth_norm_island.png)\n",
    "##### Noise\n",
    "![title](Images/example1_logsmooth_norm_island_grad.png)\n",
    "#### Island - No smoothing or normalization\n",
    "##### Map\n",
    "![title](Images/example1_island_1000.png)\n",
    "##### Noise\n",
    "![title](Images/example1_island_grad_1000.png)"
   ]
  },
  {
   "cell_type": "code",
   "execution_count": 21,
   "metadata": {},
   "outputs": [
    {
     "name": "stdout",
     "output_type": "stream",
     "text": [
      "0.0\n",
      "0.39269908169872414\n",
      "0.7853981633974483\n",
      "1.1780972450961724\n",
      "1.5707963267948966\n"
     ]
    }
   ],
   "source": [
    "#\n",
    "# Experiment with different rotations\n",
    "#\n",
    "for rot in np.linspace(0, np.pi/2, num = 5):\n",
    "    a = rotation_ghz_circuit(rotation = rot, log_smooth = True, normalize = True)\n",
    "    b = make_map(SCALE, elevation = a)"
   ]
  },
  {
   "cell_type": "markdown",
   "metadata": {},
   "source": [
    "#### Rotation = $0$\n",
    "##### Island\n",
    "![title](Images/pi_1.png)\n",
    "##### Noise\n",
    "![title](Images/pi_1_grad.png)\n",
    "#### Rotation = $0.39 \\pi$\n",
    "##### Island\n",
    "![title](Images/pi_2.png)\n",
    "##### Noise\n",
    "![title](Images/pi_2_grad.png)\n",
    "#### Rotation = $0.78 \\pi$\n",
    "##### Island\n",
    "![title](Images/pi_3.png)\n",
    "##### Noise\n",
    "![title](Images/pi_3_grad.png)\n",
    "#### Rotation = $1.17 \\pi$\n",
    "##### Island\n",
    "![title](Images/pi_4.png)\n",
    "##### Noise\n",
    "![title](Images/pi_4_grad.png)\n",
    "#### Rotation = $1.57 \\pi$\n",
    "##### Island\n",
    "![title](Images/pi_5.png)\n",
    "##### Noise\n",
    "![title](Images/pi_5_grad.png)"
   ]
  },
  {
   "cell_type": "code",
   "execution_count": 22,
   "metadata": {},
   "outputs": [],
   "source": [
    "#\n",
    "# Experiment with different densities\n",
    "#\n",
    "# Island with craters and mini-lakes\n",
    "a = rotation_ghz_circuit(rotation = np.pi/3, initial_state = create_superposition(0.1), log_smooth = True, normalize = False)\n",
    "b = make_map(SCALE, elevation = a)\n",
    "# Nice, circular island (b/c higher density, so smoother noise)\n",
    "a = rotation_ghz_circuit(rotation = np.pi/3, initial_state = create_superposition(0.8), log_smooth = True, normalize = False)\n",
    "b = make_map(SCALE, elevation = a)"
   ]
  },
  {
   "cell_type": "markdown",
   "metadata": {},
   "source": [
    "#### Superposition density = 0.1, Log smoothing + Normalization\n",
    "##### Island\n",
    "![title](Images/craters_norm_island.png)\n",
    "##### Noise\n",
    "![title](Images/craters_norm_grad.png)\n",
    "### Superposition density = 0.1, Log smoothing\n",
    "##### Island\n",
    "![title](Images/craters_island.png)\n",
    "##### Noise\n",
    "![title](Images/craters_grad.png)\n",
    "### Superposition density = 0.8, Log smoothing + Normalization\n",
    "##### Island\n",
    "![title](Images/circular_island.png)\n",
    "##### Noise\n",
    "![title](Images/circular_grad.png)"
   ]
  },
  {
   "cell_type": "markdown",
   "metadata": {},
   "source": [
    "As a sanity check, I also made a simple quantum circuit (no gates, just one measurement) to see whether the noise that was output was a single white dot in the center of the plot (since the center dot corresponds to the ground state '0000000' per my set-up code). If we do not see just a single white dot in the center of the plot, then something has gone terribly wrong."
   ]
  },
  {
   "cell_type": "code",
   "execution_count": 23,
   "metadata": {},
   "outputs": [],
   "source": [
    "#\n",
    "# Check simple circuit is a single dot in the center\n",
    "#\n",
    "a = simple_circuit()\n",
    "b = make_map(SCALE, elevation = a)"
   ]
  },
  {
   "cell_type": "markdown",
   "metadata": {},
   "source": [
    "Thankfully, we do observe exactly what was expected with the **simple_circuit**. The map generated is a single white snowcap (since it has probability 1) amidst a literal ocean of blue pixels (since they have probability $0 < 0.1$)."
   ]
  },
  {
   "cell_type": "markdown",
   "metadata": {},
   "source": [
    "#### Simple Circuit\n",
    "##### Island\n",
    "![title](Images/simple_circuit_island.png)\n",
    "##### Noise\n",
    "![title](Images/simple_circuit_grad.png)"
   ]
  },
  {
   "cell_type": "markdown",
   "metadata": {},
   "source": [
    "I performed the same sanity check on the simple GHZ gate, expecting to see exactly two white dots amidst a sea of black pixels. Sure enough, this is exactly what we see:"
   ]
  },
  {
   "cell_type": "code",
   "execution_count": 24,
   "metadata": {},
   "outputs": [],
   "source": [
    "# Check GHZ gate\n",
    "a = simple_ghz_circuit()\n",
    "b = make_map(SCALE, elevation = a)"
   ]
  },
  {
   "cell_type": "markdown",
   "metadata": {},
   "source": [
    "#### Simple GHZ Circuit\n",
    "##### Island\n",
    "![title](Images/simple_ghz_circuit_island.png)\n",
    "##### Noise\n",
    "![title](Images/simple_ghz_circuit_grad.png)"
   ]
  },
  {
   "cell_type": "markdown",
   "metadata": {},
   "source": [
    "Some more interesting island shapes and quantum circuits are included below:"
   ]
  },
  {
   "cell_type": "code",
   "execution_count": 25,
   "metadata": {},
   "outputs": [],
   "source": [
    "#\n",
    "# Cross island\n",
    "#\n",
    "a = rotation_ghz_circuit(rotation = np.pi*.3, log_smooth = True)\n",
    "b = make_map(SCALE, elevation = a)\n",
    "#\n",
    "# Nice, circular island\n",
    "#\n",
    "a = lab_4_gate_3()\n",
    "b = make_map(SCALE, elevation = a)"
   ]
  },
  {
   "cell_type": "markdown",
   "metadata": {},
   "source": [
    "#### Cross island (GHZ gate)\n",
    "##### Island\n",
    "![title](Images/cross_island.png)\n",
    "##### Noise\n",
    "![title](Images/cross_grad.png)\n",
    "#### Circular island (Lab 4, Gate 3)\n",
    "##### Island\n",
    "![title](Images/nice_circular_island.png)\n",
    "##### Noise\n",
    "![title](Images/nice_circular_grad.png)"
   ]
  },
  {
   "cell_type": "markdown",
   "metadata": {},
   "source": [
    "Next, out of curiousity, I wanted to test what types of noise/maps that the gates included in Lab 4 would generate. I also included the histograms for their outputs below, in order to check whether our outputted grayscale noise plot matched what we'd expect based on their predicted outputs.\n",
    "\n",
    "Thankfully, all of the generated maps make sense when associated with their relevant histograms. All 5 gates are detailed below."
   ]
  },
  {
   "cell_type": "code",
   "execution_count": 28,
   "metadata": {},
   "outputs": [
    {
     "name": "stdout",
     "output_type": "stream",
     "text": [
      "0000000000\n",
      "['0000000000']\n",
      "{'peak': '0000000000', 'side_peaks': ['0000000000']}\n",
      "0000000000\n",
      "['0100000000', '1000000000', '0000000000', '0000000010', '0000001000', '0000100000', '0010000000', '0000000001', '0000000100', '0000010000', '0001000000']\n",
      "{'peak': '0000000000', 'side_peaks': ['0100000000', '1000000000', '0000000000', '0000000010', '0000001000', '0000100000', '0010000000', '0000000001', '0000000100', '0000010000', '0001000000']}\n",
      "0111100101\n",
      "['0100000100', '0100010101', '0111011000', '1010101010', '0000001000', '1100101101', '0100001001', '0010010101', '0010101110', '0111100101']\n",
      "{'peak': '0111100101', 'side_peaks': ['0100000100', '0100010101', '0111011000', '1010101010', '0000001000', '1100101101', '0100001001', '0010010101', '0010101110', '0111100101']}\n",
      "1111111111\n",
      "['1111101111', '1111111110', '1111011111', '1111111101', '1111111111', '1111110111', '1101111111', '0111111111', '1111111011', '1110111111', '1011111111']\n",
      "{'peak': '1111111111', 'side_peaks': ['1111101111', '1111111110', '1111011111', '1111111101', '1111111111', '1111110111', '1101111111', '0111111111', '1111111011', '1110111111', '1011111111']}\n",
      "1111111111\n",
      "['1111111111']\n",
      "{'peak': '1111111111', 'side_peaks': ['1111111111']}\n"
     ]
    }
   ],
   "source": [
    "#\n",
    "# Lab 4 Gates\n",
    "#\n",
    "a = lab_4_gate_1()\n",
    "b = make_map(SCALE, elevation = a)\n",
    "print(get_peaks(a, side_peaks_threshold = 0.01))\n",
    "a = lab_4_gate_2()\n",
    "b = make_map(SCALE, elevation = a)\n",
    "print(get_peaks(a, side_peaks_threshold = 0.01))\n",
    "a = lab_4_gate_3()\n",
    "b = make_map(SCALE, elevation = a)\n",
    "print(get_peaks(a, side_peaks_num = 10))\n",
    "a = lab_4_gate_4()\n",
    "b = make_map(SCALE, elevation = a)\n",
    "print(get_peaks(a, side_peaks_threshold = 0.01))\n",
    "a = lab_4_gate_5()\n",
    "b = make_map(SCALE, elevation = a)\n",
    "print(get_peaks(a, side_peaks_threshold = 0.01))"
   ]
  },
  {
   "cell_type": "markdown",
   "metadata": {},
   "source": [
    "#### Gate 1\n",
    "Gate 1 results in an output qubit of 0 with 100\\% probability. Thus, we expect to see a single white pixel at the coordinate corresponding to '0000000000' (which, as previously mentioned, we've purposely set to be the central pixel in our noise plot).\n",
    "\n",
    "##### Output\n",
    "![title](Images/lab_4_gate_1.png)\n",
    "##### Island\n",
    "![title](Images/lab_4_gate_1_island.png)\n",
    "##### Noise\n",
    "![title](Images/lab_4_gate_1_grad.png)\n",
    "\n",
    "\n",
    "#### Gate 2\n",
    "Gate 1 results in an output state of 0 with much higher probability than a state of 1. We thus expect the state '0000000000' to be very white (the central pixel), but for there also to be slightly white pixels around it.\n",
    "\n",
    "##### Output\n",
    "![title](Images/lab_4_gate_2.png)\n",
    "##### Island\n",
    "![title](Images/lab_4_gate_2_island.png)\n",
    "##### Noise\n",
    "![title](Images/lab_4_gate_2_grad.png)\n",
    "\n",
    "\n",
    "#### Gate 3\n",
    "Gate 1 results in states 1 or 0 with about even probabilities. Thus, we expect our noise map to be have fairly gray/have a large spread of values.\n",
    "\n",
    "##### Output\n",
    "![title](Images/lab_4_gate_3.png)\n",
    "##### Island\n",
    "![title](Images/lab_4_gate_3_island.png)\n",
    "##### Noise\n",
    "![title](Images/lab_4_gate_3_grad.png)\n",
    "\n",
    "#### Gate 4\n",
    "Gate 1 results in an output state of 1 with much higher probability than a state of 0.\n",
    "\n",
    "##### Output\n",
    "![title](Images/lab_4_gate_4.png)\n",
    "##### Island\n",
    "![title](Images/lab_4_gate_4_island.png)\n",
    "##### Noise\n",
    "![title](Images/lab_4_gate_4_grad.png)\n",
    "\n",
    "#### Gate 5\n",
    "Gate 5 results in an output state of 1 with 100\\% probability. Thus, we expect to see a single white pixel at the coordinate corresponding to '1111111111'. This white pixel should be (and is) the same as the most white pixel in the Gate 4 plot.\n",
    "\n",
    "##### Output\n",
    "![title](Images/lab_4_gate_5.png)\n",
    "##### Island\n",
    "![title](Images/lab_4_gate_5_island_1.png)\n",
    "##### Noise\n",
    "![title](Images/lab_4_gate_5_grad.png)"
   ]
  },
  {
   "cell_type": "markdown",
   "metadata": {},
   "source": [
    "### F) Even More Maps! (Vishal)"
   ]
  },
  {
   "cell_type": "markdown",
   "metadata": {},
   "source": [
    "**NOTE:** Images for these are not included because we generated them live as part of our presentation demo."
   ]
  },
  {
   "cell_type": "code",
   "execution_count": 29,
   "metadata": {
    "scrolled": false
   },
   "outputs": [],
   "source": [
    "a = fredkin_circuit(initial_state = create_superposition(0.5), log_smooth = True)\n",
    "b = make_map(SCALE, elevation = a)\n",
    "\n",
    "a = toffoli_circuit(initial_state = create_superposition(0.5), log_smooth = True)\n",
    "b = make_map(SCALE, elevation = a)\n",
    "\n",
    "a = qft_circuit(initial_state = create_superposition(0.5), log_smooth = True)\n",
    "b = make_map(SCALE, elevation = a)"
   ]
  },
  {
   "cell_type": "markdown",
   "metadata": {},
   "source": [
    "## G) Quantum Noise (Michael)\n",
    "\n",
    "The last thing we wanted to test, in addition to the interesting patterns that quantum gates in and of themselves could generate (as shown above), was generating noise from the actual measurement error of dealing with real-world quantum devices. This measurement error can be thought of as an \"extra layer\" of unpredictable yet natural noise that we get as a bonus for using quantum circuits to generate our maps.\n",
    "\n",
    "The code below runs the Lab 4 Gate 3 quantum circuit in conjunction with the measurement noise associated with running that circuit on a real-world device. It then creates a non-island map. "
   ]
  },
  {
   "cell_type": "code",
   "execution_count": null,
   "metadata": {},
   "outputs": [],
   "source": [
    "#########\n",
    "## NOTE: This only works if running in an environment that supports qiskit.providers.aer.noise\n",
    "## Otherwise, this will throw a \"No module named 'qasm_controller_wrapper'\" error\n",
    "#########\n",
    "\n",
    "from qiskit.providers.aer import noise\n",
    "\n",
    "IBMQ.save_account('1527ec48a8f286efe0275e278f2de4c2c66510b08e13b54d4b1a89626d0a38c3419107fa0d44998bb5473b12583e474d568dcfb1e8763fdb689160df3781b26f', overwrite = True)\n",
    "IBMQ.load_accounts()\n",
    "backend_to_simulate = IBMQ.get_backend('ibmq_16_melbourne')\n",
    "noise_model = noise.device.basic_device_noise_model(backend_to_simulate.properties())\n",
    "\n",
    "q, c, qc, backend = get_quantum_circuit()\n",
    "# Lab 4, Gate 3\n",
    "for i in range(N_QUBITS):\n",
    "    qc.h(q[i])\n",
    "    qc.s(q[i])\n",
    "    qc.h(q[i])\n",
    "qc.measure(q, c)\n",
    "\n",
    "job = execute(qc, backend, shots=shots, noise_model=noise_model, basis_gates=noise_model.basis_gates)\n",
    "elevation = get_probs_matrix(job)\n",
    "elevation /= np.max(elevation)\n",
    "elevation = -np.log(elevation)\n",
    "display_image(elevation)\n",
    "make_map(SCALE, elevation = elevation, moisture = elevation, island = False, advanced = False)"
   ]
  },
  {
   "cell_type": "markdown",
   "metadata": {},
   "source": [
    "#### Land Map\n",
    "![title](Images/quant_noise_land.png)\n",
    "#### Island Map\n",
    "![title](Images/quant_noise_island.png)\n",
    "#### Noise\n",
    "![title](Images/quant_noise_grad.png)"
   ]
  },
  {
   "cell_type": "markdown",
   "metadata": {},
   "source": [
    "# 5. Evaluation (Michael)"
   ]
  },
  {
   "cell_type": "markdown",
   "metadata": {},
   "source": [
    "Finally, I wanted to be able to actually quantify the differences between the aforementioned quantum circuits using some sort of standard, robust metric.\n",
    "\n",
    "The evaluation criteria that I decided to utilize was **estimate_sigma** from the **Scikit-Image** library, which uses wavelet shrinkage to estimate the standard deviation of the noise in an image (in this case, simply a matrix of grayscale pixels). [D. L. Donoho and I. M. Johnstone. “Ideal spatial adaptation by wavelet shrinkage.” Biometrika 81.3 (1994): 425-455. DOI:10.1093/biomet/81.3.425]. The higher this value, the more \"noise\" in the noise I generated, which could be either good or bad depending on the type of terrain a game designer wanted to create -- a higher value would mean rougher terrain, while a lower value meant smoother terrain."
   ]
  },
  {
   "cell_type": "code",
   "execution_count": 31,
   "metadata": {},
   "outputs": [],
   "source": [
    "#\n",
    "# Measure noise of noise matrix\n",
    "def calc_noise(noise):\n",
    "    # Citation: D. L. Donoho and I. M. Johnstone. “Ideal spatial adaptation by wavelet shrinkage.” Biometrika 81.3 (1994): 425-455. DOI:10.1093/biomet/81.3.425\n",
    "    # Inputs:   noise: 1024x1024 matrix\n",
    "    # Outputs:  sigma: Float - Larger -> More variance in noise\n",
    "    sigma = estimate_sigma(noise, multichannel = False)\n",
    "    return sigma"
   ]
  },
  {
   "cell_type": "markdown",
   "metadata": {},
   "source": [
    "I wanted to see how the density passed to **create_superposition** changed the variation in the noise generated by a quantum circuit using this superposition as its intial state. \n",
    "\n",
    "Intuitively, I expected a more dense superposition (and thus probability spread around more states) to have lower overall variation than a lower density superposition, for a higher density would mean that more of the probability was spread around and thus there wouldn't be dramatic variation in pixel values."
   ]
  },
  {
   "cell_type": "code",
   "execution_count": null,
   "metadata": {},
   "outputs": [],
   "source": [
    "%matplotlib inline\n",
    "\n",
    "#\n",
    "# Make graph of how density affects variance in noise\n",
    "#\n",
    "sigmas = []\n",
    "x_range = np.linspace(0.01, 1, num = 10)\n",
    "for i in x_range:\n",
    "    a_s = []\n",
    "    for j in range(2):\n",
    "        # Average over 2 trials\n",
    "        a = rotation_ghz_circuit(rotation = np.pi/3, initial_state = create_superposition(i), log_smooth = False, normalize = False, display = False)\n",
    "        a_s.append(calc_noise(a))\n",
    "    sigmas.append(np.mean(a_s))\n",
    "\n",
    "plt.plot(x_range, sigmas, label = 'Quantum GHZ Rotation')\n",
    "plt.ylabel('Sigma')\n",
    "plt.xlabel('Superposition Density')\n",
    "plt.legend(loc='upper right')\n",
    "plt.show()"
   ]
  },
  {
   "cell_type": "markdown",
   "metadata": {},
   "source": [
    "As the below run shows, my intuition was correct -- there is experimental evidence for the fact that increasing the number of states in the superposition decreases the roughness of the terrain generated."
   ]
  },
  {
   "cell_type": "markdown",
   "metadata": {},
   "source": [
    "![title](Images/sigma_1_1.png)"
   ]
  },
  {
   "cell_type": "markdown",
   "metadata": {},
   "source": [
    "The same trend holds for the Lab 4 Gate 3."
   ]
  },
  {
   "cell_type": "code",
   "execution_count": null,
   "metadata": {},
   "outputs": [],
   "source": [
    "#\n",
    "# Make graph of how density affects variance in noise\n",
    "#\n",
    "sigmas = []\n",
    "x_range = np.linspace(0.01, 1, num = 10)\n",
    "for i in x_range:\n",
    "    a_s = []\n",
    "    for j in range(2):\n",
    "        # Average over 2 trials\n",
    "        a = lab_4_gate_3(initial_state = create_superposition(i), log_smooth = False, normalize = False, display = False)\n",
    "        a_s.append(calc_noise(a))\n",
    "    sigmas.append(np.mean(a_s))\n",
    "\n",
    "plt.plot(x_range, sigmas, label = 'Lab 4 Gate 3')\n",
    "plt.ylabel('Sigma')\n",
    "plt.xlabel('Superposition Density')\n",
    "plt.legend(loc='upper right')\n",
    "plt.show()"
   ]
  },
  {
   "cell_type": "markdown",
   "metadata": {},
   "source": [
    "![title](Images/lab_4_sigma_1.png)"
   ]
  },
  {
   "cell_type": "markdown",
   "metadata": {},
   "source": [
    "# 6. Conclusion\n",
    "\n",
    "We were able to successfully demonstrate that quantum circuits can be used to procedurally generate interesting, natural-looking maps and terrains for video games. Though we were only able to simulate 32 by 32 bit maps (since we used 10 qubits), the outputs that we did get perfectly matched our intuition and the expected theoretical properties of those circuits.\n",
    "\n",
    "In terms of future work, it would have been nice to be able to directly implement Perlin noise in a quantum circuit, rather than using fairly arbitrarily selected quantum circuits as the basis for our noise function. Interestingly, however, even though the quantum circuits that we used are quite simple and contrived, the noise that they generate is able to (at least visually) match if not beat the noise generated by the classical Perlin noise algorithms in terms of generating natural-looking maps. Additionally, when the measurement noise of an actual real-world quantum computer running these quantum circuits is factored in, we essentially get an additional \"layer\" of truly natural noise for free, which could give game developers a novel method for creating even more interesting maps.\n",
    "\n",
    "Notes on who contributed what portions of the project are included as parentheticals besides each section.\n",
    "\n",
    "This project was inspired by several papers mentioned previously in this text, IBM's QiSkit tutorials, and video game development walkthroughs available online. Links to relevant sources for further information are included below.\n",
    "\n",
    "\thttps://shanee.io/blog/2015/09/25/procedural-island-generation/\n",
    "\thttp://flafla2.github.io/2014/08/09/perlinnoise.html\n",
    "\thttps://www.redblobgames.com/articles/noise/introduction.html\n",
    "\thttps://www.redblobgames.com/maps/terrain-from-noise/\n",
    "    https://nbviewer.jupyter.org/github/Qiskit/qiskit-tutorial/blob/master/community/games/random_terrain_generation.ipynb\n",
    "\thttp://jcgt.org/published/0004/02/01/paper.pdf\n",
    "\thttps://medium.com/@yvanscher/playing-with-perlin-noise-generating-realistic-archipelagos-b59f004d8401\n",
    "\thttp://bit-player.org/2011/a-slight-discrepancy\n",
    "   \n",
    "Thank you for a great semester!"
   ]
  },
  {
   "cell_type": "code",
   "execution_count": null,
   "metadata": {},
   "outputs": [],
   "source": []
  }
 ],
 "metadata": {
  "kernelspec": {
   "display_name": "Python 3",
   "language": "python",
   "name": "python3"
  },
  "language_info": {
   "codemirror_mode": {
    "name": "ipython",
    "version": 3
   },
   "file_extension": ".py",
   "mimetype": "text/x-python",
   "name": "python",
   "nbconvert_exporter": "python",
   "pygments_lexer": "ipython3",
   "version": "3.7.2"
  }
 },
 "nbformat": 4,
 "nbformat_minor": 2
}
